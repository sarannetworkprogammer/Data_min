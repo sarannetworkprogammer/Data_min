{
  "cells": [
    {
      "cell_type": "markdown",
      "metadata": {
        "id": "view-in-github",
        "colab_type": "text"
      },
      "source": [
        "<a href=\"https://colab.research.google.com/github/sarannetworkprogammer/Data_min/blob/main/Data_min1.ipynb\" target=\"_parent\"><img src=\"https://colab.research.google.com/assets/colab-badge.svg\" alt=\"Open In Colab\"/></a>"
      ]
    },
    {
      "cell_type": "markdown",
      "metadata": {
        "id": "fW2UQeHk8eap"
      },
      "source": [
        "## Problem 1: Simple indexing and list functions\n",
        "There is a list of numbers assigned to a variable `number_list` in the code below that has been assigned a list of numbers. Run this cell before filling in the answers below."
      ]
    },
    {
      "cell_type": "code",
      "execution_count": null,
      "metadata": {
        "id": "txW5zwF88eaq"
      },
      "outputs": [],
      "source": [
        "number_list = [-13, 5, 12, 17, 20, 0]"
      ]
    },
    {
      "cell_type": "markdown",
      "metadata": {
        "id": "KP85-GVK8ear"
      },
      "source": [
        "Write an expression in the cell below, using square bracket index notation, that causes the 4th element of `number_list` (i.e., the number `17`) to be displayed when running the code in the cell."
      ]
    },
    {
      "cell_type": "code",
      "execution_count": null,
      "metadata": {
        "id": "Bimu67Wk8ear",
        "colab": {
          "base_uri": "https://localhost:8080/"
        },
        "outputId": "06662ff1-4a83-40d7-f23e-7f2ca79d8ca5"
      },
      "outputs": [
        {
          "output_type": "execute_result",
          "data": {
            "text/plain": [
              "17"
            ]
          },
          "metadata": {},
          "execution_count": 3
        }
      ],
      "source": [
        "## provide your answer here\n",
        "\n",
        "number_list[3]"
      ]
    },
    {
      "cell_type": "markdown",
      "metadata": {
        "id": "D4JfFzLq8eas"
      },
      "source": [
        "Now write an expression that evaluates to the number of items in the list (the answer should be: 6). hint: using the function \"len\""
      ]
    },
    {
      "cell_type": "code",
      "execution_count": null,
      "metadata": {
        "id": "ecsrjiHq8eat",
        "colab": {
          "base_uri": "https://localhost:8080/"
        },
        "outputId": "e6a4ba18-47c3-4185-ae32-ece04e065539"
      },
      "outputs": [
        {
          "output_type": "execute_result",
          "data": {
            "text/plain": [
              "6"
            ]
          },
          "metadata": {},
          "execution_count": 4
        }
      ],
      "source": [
        "## provide your answer here\n",
        "\n",
        "len(number_list)"
      ]
    },
    {
      "cell_type": "markdown",
      "metadata": {
        "id": "DQZkVUuO8eat"
      },
      "source": [
        "\n",
        "The following expression:\n",
        "```python\n",
        "max(number_list)\n",
        "```\n",
        "... will print the largest value in number_list (i.e., 20). What value should be the variable index 'idx' in the code below so that the expression\n",
        "```python\n",
        "sorted(number_list)[idx]\n",
        "```\n",
        "... does the same thing. (i.e., when you run the cell, it should display 20.)  \n",
        "hint: `idx` is a **negative** integer."
      ]
    },
    {
      "cell_type": "code",
      "execution_count": null,
      "metadata": {
        "id": "rVeIWaSB8eau",
        "colab": {
          "base_uri": "https://localhost:8080/"
        },
        "outputId": "e003bea8-35f5-4f50-b3f8-76fca9e47daa"
      },
      "outputs": [
        {
          "output_type": "execute_result",
          "data": {
            "text/plain": [
              "20"
            ]
          },
          "metadata": {},
          "execution_count": 5
        }
      ],
      "source": [
        "idx = -1 # remove '??' and provide your answer here\n",
        "sorted(number_list)[idx]\n",
        "# this code print the largest value in number_list: 20"
      ]
    },
    {
      "cell_type": "markdown",
      "metadata": {
        "id": "GhutHX2v8eau"
      },
      "source": [
        "## Problem 2: Slices\n",
        "Write an expression below that evaluates to a slice of number_list starting with its second element and ending with its fifth element (exclusive). I.e., the expression should evaluate to [5, 12, 17]."
      ]
    },
    {
      "cell_type": "code",
      "execution_count": null,
      "metadata": {
        "id": "fsMZvXbd8eav",
        "outputId": "18ab3786-578d-412a-be5a-e445610bcef5",
        "colab": {
          "base_uri": "https://localhost:8080/"
        }
      },
      "outputs": [
        {
          "output_type": "execute_result",
          "data": {
            "text/plain": [
              "[5, 12, 17]"
            ]
          },
          "metadata": {},
          "execution_count": 6
        }
      ],
      "source": [
        "## provide your answer here\n",
        "\n",
        "number_list[1:4]"
      ]
    },
    {
      "cell_type": "markdown",
      "metadata": {
        "id": "fWpr3JeQ8eaw"
      },
      "source": [
        "Write an expression below that evaluates to a slice of number_list starting with its third element and ending at the end of the list. I.e., the expression should evaluate to [12, 17, 20, 0]."
      ]
    },
    {
      "cell_type": "code",
      "execution_count": null,
      "metadata": {
        "id": "_lLlMp768eaw",
        "outputId": "8610f9b9-100f-47d8-9728-0adf493e1719",
        "colab": {
          "base_uri": "https://localhost:8080/"
        }
      },
      "outputs": [
        {
          "output_type": "execute_result",
          "data": {
            "text/plain": [
              "[12, 17, 20, 0]"
            ]
          },
          "metadata": {},
          "execution_count": 7
        }
      ],
      "source": [
        "## provide your answer here\n",
        "\n",
        "number_list[2:]"
      ]
    },
    {
      "cell_type": "markdown",
      "metadata": {
        "id": "NIM-k0Fs8eaw"
      },
      "source": [
        "Finally, fill in a value for the variable `idx` below so that the expression below it evaluates to a slice of `number_list` starting at the second-to-last element of the list and ending at the end of the list. The expression should evaluate to [20, 0]. hint: `idx` is a **negative** integer."
      ]
    },
    {
      "cell_type": "code",
      "execution_count": null,
      "metadata": {
        "id": "Yka3Sl4v8eax",
        "outputId": "a40bf810-2b49-422b-f606-a120028d2f59",
        "colab": {
          "base_uri": "https://localhost:8080/"
        }
      },
      "outputs": [
        {
          "output_type": "stream",
          "name": "stdout",
          "text": [
            "[20, 0]\n"
          ]
        }
      ],
      "source": [
        "idx = -2 # remove '??' and provide your answer here\n",
        "print (number_list[idx:])"
      ]
    },
    {
      "cell_type": "markdown",
      "metadata": {
        "id": "kdw12n418eax"
      },
      "source": [
        "## Problem set 3: Comprehensions  \n",
        "Comprehensions is very useful for **List operation** in real life data analysis and modeling tasks."
      ]
    },
    {
      "cell_type": "markdown",
      "metadata": {
        "id": "G0nNIlUE8eax"
      },
      "source": [
        "As dicussed in class, the modulo operator, %, returns the remainder of dividing one integer by another. For example:"
      ]
    },
    {
      "cell_type": "code",
      "execution_count": null,
      "metadata": {
        "id": "95qJ08yE8eax",
        "outputId": "f4e29c94-4409-411a-fa4a-b3dcfdc8614f",
        "colab": {
          "base_uri": "https://localhost:8080/"
        }
      },
      "outputs": [
        {
          "output_type": "stream",
          "name": "stdout",
          "text": [
            "1\n"
          ]
        }
      ],
      "source": [
        "print( 22 % 3)"
      ]
    },
    {
      "cell_type": "markdown",
      "metadata": {
        "id": "yD9meTq18eax"
      },
      "source": [
        "This expression evaluates to 1 because the remainder of dividing 22 by 3 is 1. We can use the modulo operator to test whether or not a number is even, by using the number 2 on the right side of the operator:"
      ]
    },
    {
      "cell_type": "code",
      "execution_count": null,
      "metadata": {
        "id": "hkY4RtSB8eay",
        "outputId": "037b48af-cb4e-44bd-b0da-776c4e59877d",
        "colab": {
          "base_uri": "https://localhost:8080/"
        }
      },
      "outputs": [
        {
          "output_type": "stream",
          "name": "stdout",
          "text": [
            "0\n",
            "1\n"
          ]
        }
      ],
      "source": [
        "print (100 % 2)\n",
        "print (101 % 2)"
      ]
    },
    {
      "cell_type": "code",
      "execution_count": null,
      "metadata": {
        "id": "8Tbhx1Go8eay"
      },
      "outputs": [],
      "source": [
        "number_list = [-13, 5, 12, 17, 20, 0]"
      ]
    },
    {
      "cell_type": "markdown",
      "metadata": {
        "id": "Fjsj-UjL8eay"
      },
      "source": [
        "Given the above information, write a list comprehension that evaluates to a list containing only the members of `number_list` that are odd---i.e., [-13, 5, 17].   \n",
        "Use the modulo operator in the membership expression of the list comprehension.   \n",
        "The results should be a **list**    \n",
        "Hint: use `if` clause within list comprehesion"
      ]
    },
    {
      "cell_type": "code",
      "source": [
        "\n",
        "ans = [number for number in number_list if number%2 == 1]\n",
        "\n",
        "print(ans)"
      ],
      "metadata": {
        "colab": {
          "base_uri": "https://localhost:8080/"
        },
        "id": "-aqpu5nFyFVM",
        "outputId": "99d466b0-0805-4b81-edec-7ad2552a59a4"
      },
      "execution_count": null,
      "outputs": [
        {
          "output_type": "stream",
          "name": "stdout",
          "text": [
            "[-13, 5, 17]\n"
          ]
        }
      ]
    },
    {
      "cell_type": "markdown",
      "metadata": {
        "id": "RaYOEisA8eaz"
      },
      "source": [
        "## Problem 4: Splitting strings\n",
        "In the cell below, a variable `float_str` is set to a string containing a list of floating-point numbers, separated by semicolons (`;`). (Make sure to run this cell before you proceed, so that the variable will be available in subsequent cells.)"
      ]
    },
    {
      "cell_type": "code",
      "execution_count": null,
      "metadata": {
        "id": "N_oBzpvG8eaz"
      },
      "outputs": [],
      "source": [
        "float_str = \"5.8;6.9;3.1;5.9;6.6;6.5;6.5;5.6;6;6.4;3.3;6.0;6.0;6.3;6.6;6.6\""
      ]
    },
    {
      "cell_type": "markdown",
      "metadata": {
        "id": "aWFH3rmn8eaz"
      },
      "source": [
        "Write an expression below that converts this string into a **`list` of floating**-point numbers. The type of the expression should be list and the type of individual elements in the list should be `float`. The expression should evaluate to something that looks like this:\n",
        "\n",
        "    [5.8, 6.9, 3.1, 5.9, 6.6, 6.5, 6.5, 5.6, 6.0, 6.4, 3.3, 6.0, 6.0, 6.3, 6.6, 6.6]\n",
        "\n",
        "(Hint: you can choose to use the `.split()` method, combined with list comprehension)"
      ]
    },
    {
      "cell_type": "code",
      "execution_count": null,
      "metadata": {
        "id": "hZxc00BX8eaz",
        "outputId": "ea7b4071-f5b7-4508-ce52-b9d394ccb6ed",
        "colab": {
          "base_uri": "https://localhost:8080/"
        }
      },
      "outputs": [
        {
          "output_type": "execute_result",
          "data": {
            "text/plain": [
              "[5.8,\n",
              " 6.9,\n",
              " 3.1,\n",
              " 5.9,\n",
              " 6.6,\n",
              " 6.5,\n",
              " 6.5,\n",
              " 5.6,\n",
              " 6.0,\n",
              " 6.4,\n",
              " 3.3,\n",
              " 6.0,\n",
              " 6.0,\n",
              " 6.3,\n",
              " 6.6,\n",
              " 6.6]"
            ]
          },
          "metadata": {},
          "execution_count": 26
        }
      ],
      "source": [
        "# provide your answer here\n",
        "\n",
        "ans_list = [float(each) for each in float_str.split(\";\")]\n",
        "\n",
        "ans_list"
      ]
    },
    {
      "cell_type": "markdown",
      "metadata": {
        "id": "8GqmvSLh8eaz"
      },
      "source": [
        "## Problem 5 IF statement\n",
        "Jenny is trying to write a program for her youth club which asks the user to type in their age.  If the user’s age is between 10 and 14, then they are eligible to be members.  That means, a child who is **10, 11, 12, 13 or 14** can join. If they are not in this age range, they are not eligible to be members.  Here is her program below:"
      ]
    },
    {
      "cell_type": "code",
      "execution_count": null,
      "metadata": {
        "id": "KreM1YE_8ea0",
        "outputId": "5f927ba5-55e1-42ad-b151-d91be79a542c",
        "colab": {
          "base_uri": "https://localhost:8080/"
        }
      },
      "outputs": [
        {
          "output_type": "stream",
          "name": "stdout",
          "text": [
            "Enter your age please12\n",
            "You can join the Youth Club!\n"
          ]
        }
      ],
      "source": [
        "age = int(input('Enter your age please'))\n",
        "if age   10   and    < 14\n",
        "    print('You can join the Youth Club!')\n",
        "else:\n",
        "    print('Sorry, you are not the right age :(')"
      ]
    },
    {
      "cell_type": "code",
      "execution_count": null,
      "metadata": {
        "id": "kPLZ8FXx8ea0",
        "colab": {
          "base_uri": "https://localhost:8080/"
        },
        "outputId": "1d283794-5771-472d-b731-3ec70022b0dc"
      },
      "outputs": [
        {
          "output_type": "stream",
          "name": "stdout",
          "text": [
            "Enter your age please15\n",
            "Sorry, you are not the right age :(\n"
          ]
        }
      ],
      "source": [
        "# provide your answer here\n",
        "\n",
        "age = int(input('Enter your age please'))\n",
        "if age >= 10   and  age <= 14:\n",
        "    print('You can join the Youth Club!')\n",
        "else:\n",
        "    print('Sorry, you are not the right age :(')"
      ]
    },
    {
      "cell_type": "markdown",
      "metadata": {
        "id": "iyWfZK6i8ea0"
      },
      "source": [
        "When Jenny tries to run this program, it will not work.  Correct the program above by inserting your proposals in the appropriate places."
      ]
    },
    {
      "cell_type": "markdown",
      "metadata": {
        "id": "QnQDyFRL8ea0"
      },
      "source": [
        "## Problem 6: Working with strings\n",
        "In the cell below, there is a list of strings and assigned it to a variable `capitalize_me`."
      ]
    },
    {
      "cell_type": "code",
      "execution_count": null,
      "metadata": {
        "id": "9pYpzqbs8ea0"
      },
      "outputs": [],
      "source": [
        "capitalize_me = ['an abacus', 'bitter beefsteak', 'comfy culottes']"
      ]
    },
    {
      "cell_type": "markdown",
      "metadata": {
        "id": "2SPs_cOf8ea0"
      },
      "source": [
        "Use the variable `capitalize_me` provided above, in the following blank code cell, write a `list comprehension` program that evaluates to another list, containing copies of these strings with their first letter capitalized. In other words, your filled-in code cell should display this when you run it:\n",
        "\n",
        "    ['An abacus', 'Bitter beefsteak', 'Comfy culottes']\n",
        "\n",
        "Hint: you could use string slices and the `.upper()`, OR `.capitalize()` (or other of your choice) method in your solution."
      ]
    },
    {
      "cell_type": "code",
      "execution_count": null,
      "metadata": {
        "id": "OSLekNkt8ea0",
        "colab": {
          "base_uri": "https://localhost:8080/"
        },
        "outputId": "40dbe067-1afe-4ecc-dc43-83a6533ffcca"
      },
      "outputs": [
        {
          "output_type": "execute_result",
          "data": {
            "text/plain": [
              "['An abacus', 'Bitter beefsteak', 'Comfy culottes']"
            ]
          },
          "metadata": {},
          "execution_count": 36
        }
      ],
      "source": [
        "## provide your answer here\n",
        "\n",
        "ans_capitalize_me = [each.capitalize() for each in capitalize_me]\n",
        "\n",
        "\n",
        "ans_capitalize_me"
      ]
    },
    {
      "cell_type": "markdown",
      "metadata": {
        "id": "Vn1EarFP8ea1"
      },
      "source": [
        "## Problem 7 Define functions\n",
        "1- Define a function `max_of_three()` that takes three numbers as arguments and returns the largest of them."
      ]
    },
    {
      "cell_type": "code",
      "execution_count": null,
      "metadata": {
        "id": "8H_yvNI18ea1"
      },
      "outputs": [],
      "source": [
        "def max_of_three(n1,n2,n3):\n",
        "\n",
        "\n",
        "    # provide your answer here\n",
        "\n",
        "    return max(n1,n2,n3)"
      ]
    },
    {
      "cell_type": "markdown",
      "metadata": {
        "id": "jaqULbsC8ea1"
      },
      "source": [
        "2- Define a function is_palindrome() that recognizes palindromes (i.e. words that look the same written backwards). For example, is_palindrome(\"radar\") should return True."
      ]
    },
    {
      "cell_type": "code",
      "execution_count": null,
      "metadata": {
        "id": "ky96PoM38ea1"
      },
      "outputs": [],
      "source": [
        "def is_palindrome(word):\n",
        "    # provide your answer here\n",
        "\n",
        "    if word == word[::-1]:\n",
        "      return True\n",
        "\n",
        "    else:\n",
        "      return False"
      ]
    }
  ],
  "metadata": {
    "kernelspec": {
      "display_name": "Python 3 (ipykernel)",
      "language": "python",
      "name": "python3"
    },
    "language_info": {
      "codemirror_mode": {
        "name": "ipython",
        "version": 3
      },
      "file_extension": ".py",
      "mimetype": "text/x-python",
      "name": "python",
      "nbconvert_exporter": "python",
      "pygments_lexer": "ipython3",
      "version": "3.9.7"
    },
    "colab": {
      "provenance": [],
      "include_colab_link": true
    }
  },
  "nbformat": 4,
  "nbformat_minor": 0
}